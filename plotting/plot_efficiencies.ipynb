{
 "cells": [
  {
   "cell_type": "code",
   "execution_count": 1,
   "metadata": {},
   "outputs": [
    {
     "name": "stdout",
     "output_type": "stream",
     "text": [
      "Welcome to JupyROOT 6.18/00\n"
     ]
    }
   ],
   "source": [
    "import ROOT\n",
    "from pyroot_cms_scripts import CMS_style, CMS_text"
   ]
  },
  {
   "cell_type": "code",
   "execution_count": 7,
   "metadata": {},
   "outputs": [
    {
     "data": {
      "image/png": "[encoded data removed]",
      "text/plain": [
       "<IPython.core.display.Image object>"
      ]
     },
     "metadata": {},
     "output_type": "display_data"
    }
   ],
   "source": [
    "mc_hist_filename = \"hists/dy_amcatnlo_20_mc_2017full.root\"\n",
    "data_hist_filename = \"hists/double_muon_data_2017full.root\"\n",
    "\n",
    "\n",
    "mc_hist_file = ROOT.TFile.Open(mc_hist_filename)\n",
    "data_hist_file = ROOT.TFile.Open(data_hist_filename)\n",
    "\n",
    "mc_pass_signal_jet_pt = mc_hist_file.Get(\"tight_control_jet_pt_pass_wp1\")\n",
    "mc_fail_signal_jet_pt = mc_hist_file.Get(\"tight_control_jet_pt_fail_wp1\")\n",
    "mc_all_signal_jet_pt = mc_pass_signal_jet_pt + mc_fail_signal_jet_pt\n",
    "\n",
    "mc_pass_signal_jet_eta = mc_hist_file.Get(\"tight_control_jet_eta_pass_wp1\")\n",
    "mc_fail_signal_jet_eta = mc_hist_file.Get(\"tight_control_jet_eta_fail_wp1\")\n",
    "mc_all_signal_jet_eta = mc_pass_signal_jet_eta + mc_fail_signal_jet_eta\n",
    "\n",
    "data_pass_signal_jet_pt = data_hist_file.Get(\"tight_control_jet_pt_pass_wp1\")\n",
    "data_fail_signal_jet_pt = data_hist_file.Get(\"tight_control_jet_pt_fail_wp1\")\n",
    "data_all_signal_jet_pt = data_pass_signal_jet_pt + data_fail_signal_jet_pt\n",
    "\n",
    "data_pass_signal_jet_eta = data_hist_file.Get(\"tight_control_jet_eta_pass_wp1\")\n",
    "data_fail_signal_jet_eta = data_hist_file.Get(\"tight_control_jet_eta_fail_wp1\")\n",
    "data_all_signal_jet_eta = data_pass_signal_jet_eta + data_fail_signal_jet_eta\n",
    "\n",
    "mc_pass_bkg_jet_pt = mc_hist_file.Get(\"loose_control_jet_pt_pass_wp1\")\n",
    "mc_fail_bkg_jet_pt = mc_hist_file.Get(\"loose_control_jet_pt_fail_wp1\")\n",
    "mc_all_bkg_jet_pt = mc_pass_bkg_jet_pt + mc_fail_bkg_jet_pt\n",
    "\n",
    "mc_pass_bkg_jet_eta = mc_hist_file.Get(\"loose_control_jet_eta_pass_wp1\")\n",
    "mc_fail_bkg_jet_eta = mc_hist_file.Get(\"loose_control_jet_eta_fail_wp1\")\n",
    "mc_all_bkg_jet_eta = mc_pass_bkg_jet_eta + mc_fail_bkg_jet_eta\n",
    "\n",
    "data_pass_bkg_jet_pt = data_hist_file.Get(\"loose_control_jet_pt_pass_wp1\")\n",
    "data_fail_bkg_jet_pt = data_hist_file.Get(\"loose_control_jet_pt_fail_wp1\")\n",
    "data_all_bkg_jet_pt = data_pass_bkg_jet_pt + data_fail_bkg_jet_pt\n",
    "\n",
    "data_pass_bkg_jet_eta = data_hist_file.Get(\"loose_control_jet_eta_pass_wp1\")\n",
    "data_fail_bkg_jet_eta = data_hist_file.Get(\"loose_control_jet_eta_fail_wp1\")\n",
    "data_all_bkg_jet_eta = data_pass_bkg_jet_eta + data_fail_bkg_jet_eta\n",
    "\n",
    "\n",
    "eff_jet_pt_num = data_pass_signal_jet_pt - ((ROOT.TMath.Pi() - 2.5)/1.5) * data_pass_bkg_jet_pt\n",
    "eff_jet_pt_den = data_all_signal_jet_pt - ((ROOT.TMath.Pi() - 2.5)/1.5) * data_all_bkg_jet_pt\n",
    "\n",
    "eff_jet_pt = eff_jet_pt_num.Clone()\n",
    "eff_jet_pt.Divide(eff_jet_pt_den)\n",
    "#eff_jet_pt = ROOT.TEfficiency(eff_jet_pt_num, eff_jet_pt_den)\n",
    "\n",
    "canvas = ROOT.TCanvas()\n",
    "#eff_jet_pt.Draw(\"alp\")\n",
    "eff_jet_pt.Draw(\"e1\")\n",
    "#data_fail_signal_jet_pt.Draw()\n",
    "canvas.Draw()\n"
   ]
  },
  {
   "cell_type": "code",
   "execution_count": 6,
   "metadata": {},
   "outputs": [
    {
     "data": {
      "text/plain": [
       "3.141592653589793"
      ]
     },
     "execution_count": 6,
     "metadata": {},
     "output_type": "execute_result"
    }
   ],
   "source": [
    "ROOT.TMath.Pi()"
   ]
  },
  {
   "cell_type": "code",
   "execution_count": null,
   "metadata": {},
   "outputs": [],
   "source": []
  }
 ],
 "metadata": {
  "kernelspec": {
   "display_name": "Python 3 LCG_96_CENTOS7_GCC8",
   "language": "python",
   "name": "python3_lcg_96_centos7_gcc8"
  },
  "language_info": {
   "codemirror_mode": {
    "name": "ipython",
    "version": 3
   },
   "file_extension": ".py",
   "mimetype": "text/x-python",
   "name": "python",
   "nbconvert_exporter": "python",
   "pygments_lexer": "ipython3",
   "version": "3.6.5"
  }
 },
 "nbformat": 4,
 "nbformat_minor": 4
}
